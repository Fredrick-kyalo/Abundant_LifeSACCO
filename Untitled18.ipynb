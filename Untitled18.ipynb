{
  "nbformat": 4,
  "nbformat_minor": 0,
  "metadata": {
    "colab": {
      "provenance": [],
      "gpuType": "T4",
      "include_colab_link": true
    },
    "kernelspec": {
      "name": "python3",
      "display_name": "Python 3"
    },
    "language_info": {
      "name": "python"
    },
    "accelerator": "GPU"
  },
  "cells": [
    {
      "cell_type": "markdown",
      "metadata": {
        "id": "view-in-github",
        "colab_type": "text"
      },
      "source": [
        "<a href=\"https://colab.research.google.com/github/Fredrick-kyalo/Abundant_LifeSACCO/blob/main/Untitled18.ipynb\" target=\"_parent\"><img src=\"https://colab.research.google.com/assets/colab-badge.svg\" alt=\"Open In Colab\"/></a>"
      ]
    },
    {
      "cell_type": "code",
      "execution_count": 1,
      "metadata": {
        "id": "BE6vGwYMhnJr"
      },
      "outputs": [],
      "source": [
        "\n",
        "from tensorflow.keras.layers import SimpleRNN, LSTM, GRU, Bidirectional, Dense, Embedding\n",
        "from tensorflow.keras.models import Sequential\n",
        "import numpy as np\n",
        "import pandas as pd\n",
        "from keras.models import Sequential\n",
        "from keras.layers import Dense, Embedding, LSTM, SpatialDropout1D\n",
        "from sklearn.model_selection import train_test_split\n",
        "from sklearn.feature_extraction.text import CountVectorizer\n",
        "from keras.preprocessing.text import Tokenizer\n",
        "from keras.utils import pad_sequences\n",
        "import torch\n",
        "from transformers import RobertaTokenizer, RobertaForSequenceClassification, AdamW\n"
      ]
    },
    {
      "cell_type": "code",
      "source": [
        "# Load the Pandas libraries with alias 'pd'\n",
        "import pandas as pd\n",
        "\n",
        "# Read data from file 'filename.csv'\n",
        "# (in the same directory that your python process is based)\n",
        "# Control delimiters, rows, column names with read_csv (see later)\n",
        "df = pd.read_csv(\"cleaned_mental.csv\")"
      ],
      "metadata": {
        "id": "G0Yj42QshrKr"
      },
      "execution_count": 2,
      "outputs": []
    },
    {
      "cell_type": "code",
      "source": [
        "import nltk\n",
        "from nltk.corpus import stopwords\n",
        "\n",
        "# Download NLTK stop words\n",
        "nltk.download('stopwords')\n",
        "\n",
        "# Get the English stop words\n",
        "stop_words = set(stopwords.words('english'))\n",
        "\n",
        "# Assuming 'selftext' is the column containing the text data\n",
        "#df['selftext'] = df['selftext'].fillna('')\n",
        "\n",
        "# Remove stop words\n",
        "df['selftext'] = df['selftext'].apply(lambda x: ' '.join([word for word in str(x).split() if word.lower() not in stop_words]))\n",
        "\n",
        "\n",
        "\n",
        "#Convert text to lowercase\n",
        "df['selftext'] = df['selftext'].str.lower()\n",
        "\n",
        "df['selftext'] = df['selftext'].str.replace('[^\\w\\s]', '')\n",
        "df['selftext'] = df['selftext'].str.replace('\\d+', '')\n",
        "df['selftext'] = df['selftext'].str.replace('@', '')\n",
        "df['selftext'] = df['selftext'].str.replace('#', '')\n",
        "#df['selftext'] = df['selftext'].str.replace('\\s+', '')\n",
        "\n",
        "# Drop missing values\n",
        "df = df.dropna(subset=['selftext'])\n"
      ],
      "metadata": {
        "id": "qcD7z7WPhvie",
        "colab": {
          "base_uri": "https://localhost:8080/"
        },
        "outputId": "893741ce-6be4-46c4-9e00-93d79757d7a6"
      },
      "execution_count": 3,
      "outputs": [
        {
          "output_type": "stream",
          "name": "stderr",
          "text": [
            "[nltk_data] Downloading package stopwords to /root/nltk_data...\n",
            "[nltk_data]   Package stopwords is already up-to-date!\n",
            "<ipython-input-3-fe863e6734cd>:21: FutureWarning: The default value of regex will change from True to False in a future version.\n",
            "  df['selftext'] = df['selftext'].str.replace('[^\\w\\s]', '')\n",
            "<ipython-input-3-fe863e6734cd>:22: FutureWarning: The default value of regex will change from True to False in a future version.\n",
            "  df['selftext'] = df['selftext'].str.replace('\\d+', '')\n"
          ]
        }
      ]
    },
    {
      "cell_type": "code",
      "source": [
        "import nltk\n",
        "from nltk.corpus import stopwords\n",
        "from nltk.stem import WordNetLemmatizer\n",
        "from sklearn.preprocessing import LabelEncoder\n",
        "\n",
        "# Download NLTK stop words\n",
        "nltk.download('stopwords')\n",
        "nltk.download('wordnet')\n",
        "\n",
        "# Get the English stop words\n",
        "stop_words = set(stopwords.words('english'))\n",
        "\n",
        "# Initialize the WordNet Lemmatizer\n",
        "lemmatizer = WordNetLemmatizer()\n",
        "\n",
        "# Preprocess 'text' column\n",
        " #Drop missing values\n",
        " # Drop rows where 'subreddit' has NaN values and assign the result to a new column 'y'\n",
        "df['y'] = df['subreddit'].dropna()\n",
        "\n",
        "# If you want to drop rows from the original DataFrame instead of creating a new column, you can do:\n",
        "# df.dropna(subset=['subreddit'], inplace=True)\n",
        "\n",
        "df['selftext'] = df['selftext'].apply(lambda x: ' '.join([word for word in str(x).split() if word.lower() not in stop_words]))\n",
        "df['selftext'] = df['selftext'].str.lower()\n",
        "df['selftext'] = df['selftext'].str.replace('[^\\w\\s]', '')\n",
        "df['selftext'] = df['selftext'].str.replace('\\d+', '')\n",
        "df['selftext'] = df['selftext'].str.replace('@', '')\n",
        "df['selftext'] = df['selftext'].str.replace('#', '')\n",
        "\n",
        "# Lemmatize the 'text' column\n",
        "def lemmatize_text(text):\n",
        "    tokens = nltk.word_tokenize(text)\n",
        "    lemmatized_tokens = [lemmatizer.lemmatize(word) for word in tokens]\n",
        "    return ' '.join(lemmatized_tokens)\n",
        "\n",
        "df['selftext'] = df['selftext'].apply(lemmatize_text)\n",
        "\n",
        "# Drop missing values\n",
        "df = df.dropna(subset=['selftext'])\n",
        "\n",
        "from sklearn.preprocessing import LabelEncoder\n",
        "\n",
        "from sklearn.preprocessing import LabelEncoder\n",
        "\n",
        "# Create a LabelEncoder instance\n",
        "encoder = LabelEncoder()\n",
        "\n",
        "# Fit the encoder on the unique labels in the 'subreddit' column of your dataset\n",
        "encoder.fit(df['subreddit'])\n",
        "\n",
        "# Transform the 'subreddit' column and store the encoded values in a new column 'y'\n",
        "df['y'] = encoder.transform(df['subreddit'])\n",
        "\n",
        "\n",
        "\n",
        "\n",
        "\n",
        "df.head()\n",
        "\n",
        "\n",
        "print(df['y'].unique())\n"
      ],
      "metadata": {
        "id": "yeWlxeVlhy1m",
        "colab": {
          "base_uri": "https://localhost:8080/"
        },
        "outputId": "58e2f4b6-8dc8-4cea-8a9f-3acf7db62e47"
      },
      "execution_count": 4,
      "outputs": [
        {
          "output_type": "stream",
          "name": "stderr",
          "text": [
            "[nltk_data] Downloading package stopwords to /root/nltk_data...\n",
            "[nltk_data]   Package stopwords is already up-to-date!\n",
            "[nltk_data] Downloading package wordnet to /root/nltk_data...\n",
            "[nltk_data]   Package wordnet is already up-to-date!\n",
            "<ipython-input-4-2f83e1a2af3b>:26: FutureWarning: The default value of regex will change from True to False in a future version.\n",
            "  df['selftext'] = df['selftext'].str.replace('[^\\w\\s]', '')\n",
            "<ipython-input-4-2f83e1a2af3b>:27: FutureWarning: The default value of regex will change from True to False in a future version.\n",
            "  df['selftext'] = df['selftext'].str.replace('\\d+', '')\n"
          ]
        },
        {
          "output_type": "stream",
          "name": "stdout",
          "text": [
            "[1 0 2]\n"
          ]
        }
      ]
    },
    {
      "cell_type": "code",
      "source": [
        "from sklearn.model_selection import train_test_split\n",
        "\n",
        "# First, splitting the data into training and test sets\n",
        "train_texts, test_texts, train_labels, test_labels = train_test_split(\n",
        "    df['selftext'],  # Feature data (texts)\n",
        "    df['y'],         # Target data (labels)\n",
        "    test_size=0.2,   # 20% for testing\n",
        "    random_state=42  # Setting a random seed for reproducibility\n",
        ")\n",
        "\n",
        "# Then, splitting the training data into training and validation sets\n",
        "train_texts, val_texts, train_labels, val_labels = train_test_split(\n",
        "    train_texts,     # Use the original training texts\n",
        "    train_labels,    # Use the original training labels\n",
        "    test_size=0.25,  # 25% of the original data for validation (which is 20% of the original data)\n",
        "    random_state=42  # Keeping the same random seed for consistency\n",
        ")\n",
        "\n",
        "# Display the shapes of the resulting datasets\n",
        "print(\"Shape of train_texts:\", train_texts.shape)\n",
        "print(\"Shape of val_texts:\", val_texts.shape)\n",
        "print(\"Shape of test_texts:\", test_texts.shape)\n",
        "print(\"Shape of train_labels:\", train_labels.shape)\n",
        "print(\"Shape of val_labels:\", val_labels.shape)\n",
        "print(\"Shape of test_labels:\", test_labels.shape)\n",
        "\n",
        "print(\"shape of X_train: \",train_texts.shape)\n",
        "print(\"shape of X_test: \",test_texts.shape)\n",
        "\n",
        "print(\"shape of y_train: \",train_labels.shape)\n",
        "print(\"shape of y_test: \",test_labels.shape)"
      ],
      "metadata": {
        "id": "9yP2FkrTh_Wi",
        "colab": {
          "base_uri": "https://localhost:8080/"
        },
        "outputId": "d38b09af-7388-4386-8550-f47e6737a564"
      },
      "execution_count": 5,
      "outputs": [
        {
          "output_type": "stream",
          "name": "stdout",
          "text": [
            "Shape of train_texts: (11932,)\n",
            "Shape of val_texts: (3978,)\n",
            "Shape of test_texts: (3978,)\n",
            "Shape of train_labels: (11932,)\n",
            "Shape of val_labels: (3978,)\n",
            "Shape of test_labels: (3978,)\n",
            "shape of X_train:  (11932,)\n",
            "shape of X_test:  (3978,)\n",
            "shape of y_train:  (11932,)\n",
            "shape of y_test:  (3978,)\n"
          ]
        }
      ]
    },
    {
      "cell_type": "code",
      "source": [
        "print(train_texts[68])\n",
        "print(train_labels[9])\n",
        "\n",
        "\n",
        "X_train = train_texts\n",
        "y_train = train_labels\n",
        "X_test = test_texts\n",
        "y_test =test_labels"
      ],
      "metadata": {
        "id": "D4FsLsChiC-f",
        "colab": {
          "base_uri": "https://localhost:8080/"
        },
        "outputId": "6f3fabb9-68eb-414a-8142-dcd1f960c1b5"
      },
      "execution_count": 6,
      "outputs": [
        {
          "output_type": "stream",
          "name": "stdout",
          "text": [
            "year ago lost fp throughout year would return leave leaving broken time process lost touch almost friend work friend work fashion good network connection lost well almost year later still regret behavior miss friend people life support dream support ghosted people good word told nobody going time still thats excuse know today started first apology hoping hear experience others isolated rough time life much left one u able reconcile relationship u mourn u move\n",
            "1\n"
          ]
        }
      ]
    },
    {
      "cell_type": "code",
      "source": [
        "from tensorflow.keras.preprocessing.text import Tokenizer\n",
        "\n",
        "\n",
        "# Initialize tokenizer and fit on texts\n",
        "tokenizer = Tokenizer(oov_token=\"<OOV>\")\n",
        "tokenizer.fit_on_texts(train_texts)\n",
        "\n",
        "\n",
        "\n",
        "X_train_seq = tokenizer.texts_to_sequences(X_train)\n",
        "X_test_seq=tokenizer.texts_to_sequences(X_test)\n",
        "\n",
        "#rint(X_train_seq)\n",
        "max_seq_length = max(max(map(len,X_train_seq)),  max(map(len, X_train_seq)))\n",
        "print(max_seq_length)\n",
        "\n",
        "# Calculate the median sequence length\n",
        "median_seq_length = np.median([len(seq) for seq in X_train_seq])\n",
        "print(f\"Median Sequence Length: {median_seq_length}\")\n",
        "\n",
        "# Alternatively, you can use a percentile like 95th percentile to avoid outliers:\n",
        "# percentile_95 = np.percentile([len(seq) for seq in X_train_seq], 95)\n",
        "# print(f\"95th Percentile Sequence Length: {percentile_95}\")\n",
        "\n",
        "\n",
        "# Adding 1 because of reserved 0 index\n",
        "vocab_size = len(tokenizer.word_index) + 1"
      ],
      "metadata": {
        "id": "rRy4jMp2iF2v",
        "colab": {
          "base_uri": "https://localhost:8080/"
        },
        "outputId": "35b8c6b7-57fa-48c1-c9a5-c5fe3fc9a101"
      },
      "execution_count": 7,
      "outputs": [
        {
          "output_type": "stream",
          "name": "stdout",
          "text": [
            "1274\n",
            "Median Sequence Length: 55.0\n"
          ]
        }
      ]
    },
    {
      "cell_type": "code",
      "source": [
        "from tensorflow.keras.preprocessing.sequence import pad_sequences\n",
        "\n",
        "# Assuming X_train and X_test are already sequences of integers and y_train is your target labels\n",
        "\n",
        "# Define your maximum sequence length\n",
        "max_len = 100\n",
        "max_length=100\n",
        "\n",
        "# Pad sequences\n",
        "X_train_padded = pad_sequences(X_train_seq, maxlen=max_length, padding='post', truncating='post')\n",
        "X_test_padded = pad_sequences(X_test_seq, maxlen=max_length, padding='post', truncating='post')\n",
        "\n",
        "# Ensure the shapes and the values look correct\n",
        "print(\"Shape of X_train_padded:\", X_train_padded.shape)\n",
        "print(\"Example of a padded sequence:\", X_train_padded[5])\n",
        "print(\"Example of a corresponding label:\", y_train[76])\n"
      ],
      "metadata": {
        "id": "1XaJDwpPiJkJ",
        "colab": {
          "base_uri": "https://localhost:8080/"
        },
        "outputId": "a64e0983-4d11-4f8f-b8c6-0e75a5d4ff5b"
      },
      "execution_count": 8,
      "outputs": [
        {
          "output_type": "stream",
          "name": "stdout",
          "text": [
            "Shape of X_train_padded: (11932, 100)\n",
            "Example of a padded sequence: [   91   655    49   157   157    56    58   109    60   792   208  1998\n",
            "   232     4     3     2   569   792   628   231    15     2   255    17\n",
            "  1085   485   124   157    13    19   853  1217  1929    95  2557   754\n",
            "   245   551 10263  1974     2   163  7652   125   186   157    47     2\n",
            "  1243   109     3  6894    24    88     0     0     0     0     0     0\n",
            "     0     0     0     0     0     0     0     0     0     0     0     0\n",
            "     0     0     0     0     0     0     0     0     0     0     0     0\n",
            "     0     0     0     0     0     0     0     0     0     0     0     0\n",
            "     0     0     0     0]\n",
            "Example of a corresponding label: 1\n"
          ]
        }
      ]
    },
    {
      "cell_type": "code",
      "source": [
        "df.dtypes\n",
        "import numpy as np\n",
        "\n",
        "# Assuming X_train and y_train are NumPy arrays\n",
        "#print(\"Data type of X_train:\", X_train.dtype)\n",
        "#print(\"Data type of y_train:\", y_train.dtype)\n",
        "import numpy as np\n",
        "\n",
        "# Assuming X_train and y_train are NumPy arrays\n",
        "#print(\"Data type of X_train:\", X_test.dtype)\n",
        "#print(\"Data type of y_train:\", y_test.dtype)\n",
        "\n",
        "from sklearn.preprocessing import LabelEncoder\n",
        "from keras.utils import to_categorical\n",
        "\n",
        "\n",
        "\n",
        "from sklearn.model_selection import train_test_split\n",
        "\n",
        "#X_train, X_test, y_train, y_test = train_test_split(X_train_padded, y_train, test_size=0.2, random_state=42)\n",
        "\n",
        "# Convert y_train and y_test to one-hot encoding\n",
        "num_classes = len(encoder.classes_)\n",
        "y_train = to_categorical(y_train, num_classes=num_classes)\n",
        "y_test = to_categorical(y_test, num_classes=num_classes)\n",
        "\n",
        "\n",
        "\n",
        "\n",
        "print(\"Data type of X_train:\", X_train.dtype)\n",
        "\n",
        "\n",
        "print(y_train.shape)\n",
        "print(X_train.shape)\n",
        "print(\"Data type of X_train:\", X_train_padded.dtype)\n",
        "\n",
        "print(X_train_padded[9, :])\n"
      ],
      "metadata": {
        "id": "EbTUHMN8iN4u",
        "colab": {
          "base_uri": "https://localhost:8080/"
        },
        "outputId": "3f87eaad-b5f3-4e60-e340-5f31703275ce"
      },
      "execution_count": 9,
      "outputs": [
        {
          "output_type": "stream",
          "name": "stdout",
          "text": [
            "Data type of X_train: object\n",
            "(11932, 3)\n",
            "(11932,)\n",
            "Data type of X_train: int32\n",
            "[ 3431    61     2   588   538   367     3   882    51  1803   461  3431\n",
            "   329    53   637    26    35   541  2934    18     2  1326   404   297\n",
            "    16    25   329   123   866  1832   740    38     3  2750   186  5221\n",
            "   170    38  1044    23    13   115  5221     5   280   735   695    51\n",
            "   740    38  1007   622    13    92   293   419   725   730    47   597\n",
            "  1129    52    71   410  2935   358  1320     5     4   312   100     2\n",
            "    71   264   106    53    21   934   643    25    16   541  1327    51\n",
            "   640 13322   250  7656   216    23   725   623  1055  2513    28   322\n",
            "    52  1637    45   273]\n"
          ]
        }
      ]
    },
    {
      "cell_type": "code",
      "source": [
        "print(\"Shape of X_train_padded:\", X_train_padded.shape)\n",
        "print(\"Shape of y_train:\", y_train.shape)\n",
        "print(\"Data type of X_train:\", X_train_padded.dtype)\n",
        "print(\"Data type of y_train:\", y_train)"
      ],
      "metadata": {
        "colab": {
          "base_uri": "https://localhost:8080/"
        },
        "id": "lL8310rFMYMD",
        "outputId": "4c6ab2fa-41c7-4cf1-e41e-11568cfe3a20"
      },
      "execution_count": 18,
      "outputs": [
        {
          "output_type": "stream",
          "name": "stdout",
          "text": [
            "Shape of X_train_padded: (11932, 100)\n",
            "Shape of y_train: (11932, 3)\n",
            "Data type of X_train: int32\n",
            "Data type of y_train: [[0. 1. 0.]\n",
            " [0. 1. 0.]\n",
            " [0. 1. 0.]\n",
            " ...\n",
            " [0. 1. 0.]\n",
            " [0. 0. 1.]\n",
            " [0. 1. 0.]]\n"
          ]
        }
      ]
    },
    {
      "cell_type": "code",
      "source": [
        "from sklearn.model_selection import train_test_split\n",
        "\n",
        "# First, split the data into training and temp sets\n",
        "X_train, X_temp, y_train, y_temp = train_test_split(X_train_padded, y_train, test_size=0.3, random_state=42)\n",
        "\n",
        "# Now, split the temp sets into validation and test sets\n",
        "X_val, X_test, y_val, y_test = train_test_split(X_temp, y_temp, test_size=0.5, random_state=42)\n",
        "\n",
        "# Print the shapes to verify the splits\n",
        "print(\"Training set shape:\", X_train.shape, y_train.shape)\n",
        "print(\"Validation set shape:\", X_val.shape, y_val.shape)\n",
        "print(\"Test set shape:\", X_test.shape, y_test.shape)\n"
      ],
      "metadata": {
        "colab": {
          "base_uri": "https://localhost:8080/"
        },
        "id": "eso7v1R-LYpK",
        "outputId": "29b50709-cb3b-4b10-eef9-c9be0b699504"
      },
      "execution_count": 19,
      "outputs": [
        {
          "output_type": "stream",
          "name": "stdout",
          "text": [
            "Training set shape: (8352, 100) (8352, 3)\n",
            "Validation set shape: (1790, 100) (1790, 3)\n",
            "Test set shape: (1790, 100) (1790, 3)\n"
          ]
        }
      ]
    },
    {
      "cell_type": "code",
      "source": [
        "print(y_train.shape)\n"
      ],
      "metadata": {
        "colab": {
          "base_uri": "https://localhost:8080/"
        },
        "id": "cfECz_huDjN3",
        "outputId": "ba694558-a39d-45a4-9999-b197d3cdc96a"
      },
      "execution_count": 12,
      "outputs": [
        {
          "output_type": "stream",
          "name": "stdout",
          "text": [
            "(8352, 3)\n"
          ]
        }
      ]
    },
    {
      "cell_type": "code",
      "source": [
        "from keras.models import Sequential\n",
        "from keras.layers import Embedding, Bidirectional, LSTM, Dense, Dropout\n",
        "\n",
        "# Initialize Sequential model\n",
        "model = Sequential()\n",
        "\n",
        "# Add Embedding layer\n",
        "model.add(Embedding(input_dim=vocab_size, output_dim=70, input_length=max_len))\n",
        "\n",
        "# Add Stacked Bidirectional LSTM layers with Dropout regularization\n",
        "model.add(Bidirectional(LSTM(16, return_sequences=True)))  # Adjust units based on your requirements\n",
        "model.add(Dropout(0.5))  # Add Dropout regularization\n",
        "model.add(Bidirectional(LSTM(4)))  # Adjust units based on your requirements\n",
        "\n",
        "# Add Dense layers with appropriate activation functions\n",
        "model.add(Dense(8, activation='relu'))  # Adjust units and activation based on your requirements\n",
        "model.add(Dense(num_classes, activation='softmax'))  # Adjust units based on the number of classes or outputs\n",
        "\n",
        "# Compile the model with appropriate loss, optimizer, and metrics\n",
        "model.compile(loss='categorical_crossentropy', optimizer='adam', metrics=['accuracy'])\n",
        "\n",
        "# Display the model summary\n",
        "model.summary()\n"
      ],
      "metadata": {
        "id": "wCgOgLQBiODl",
        "colab": {
          "base_uri": "https://localhost:8080/"
        },
        "outputId": "b776437e-78eb-4492-8335-649d55ee7aaf"
      },
      "execution_count": 34,
      "outputs": [
        {
          "output_type": "stream",
          "name": "stdout",
          "text": [
            "Model: \"sequential_4\"\n",
            "_________________________________________________________________\n",
            " Layer (type)                Output Shape              Param #   \n",
            "=================================================================\n",
            " embedding_4 (Embedding)     (None, 100, 70)           1790180   \n",
            "                                                                 \n",
            " bidirectional_8 (Bidirecti  (None, 100, 32)           11136     \n",
            " onal)                                                           \n",
            "                                                                 \n",
            " dropout_4 (Dropout)         (None, 100, 32)           0         \n",
            "                                                                 \n",
            " bidirectional_9 (Bidirecti  (None, 8)                 1184      \n",
            " onal)                                                           \n",
            "                                                                 \n",
            " dense_8 (Dense)             (None, 8)                 72        \n",
            "                                                                 \n",
            " dense_9 (Dense)             (None, 3)                 27        \n",
            "                                                                 \n",
            "=================================================================\n",
            "Total params: 1802599 (6.88 MB)\n",
            "Trainable params: 1802599 (6.88 MB)\n",
            "Non-trainable params: 0 (0.00 Byte)\n",
            "_________________________________________________________________\n"
          ]
        }
      ]
    },
    {
      "cell_type": "code",
      "source": [
        "print(y_train.shape)\n",
        "print(y_test.shape)"
      ],
      "metadata": {
        "colab": {
          "base_uri": "https://localhost:8080/"
        },
        "id": "5efAi7haRzr4",
        "outputId": "b01c3627-6fae-4ead-e85a-10c340211798"
      },
      "execution_count": 21,
      "outputs": [
        {
          "output_type": "stream",
          "name": "stdout",
          "text": [
            "(8352, 3)\n",
            "(1790, 3)\n"
          ]
        }
      ]
    },
    {
      "cell_type": "code",
      "source": [
        "# Fit the model\n",
        "history = model.fit(X_train, y_train, epochs=20, batch_size=42, validation_data=(X_test, y_test))"
      ],
      "metadata": {
        "id": "uuOU7pvgiUQW",
        "colab": {
          "base_uri": "https://localhost:8080/"
        },
        "outputId": "33fd51a3-c2c4-4ea3-c2d9-f273b660d724"
      },
      "execution_count": 35,
      "outputs": [
        {
          "output_type": "stream",
          "name": "stdout",
          "text": [
            "Epoch 1/20\n",
            "199/199 [==============================] - 30s 113ms/step - loss: 0.9333 - accuracy: 0.5212 - val_loss: 0.8448 - val_accuracy: 0.5816\n",
            "Epoch 2/20\n",
            "199/199 [==============================] - 12s 60ms/step - loss: 0.6588 - accuracy: 0.7102 - val_loss: 0.6641 - val_accuracy: 0.7497\n",
            "Epoch 3/20\n",
            "199/199 [==============================] - 10s 49ms/step - loss: 0.3825 - accuracy: 0.8687 - val_loss: 0.5955 - val_accuracy: 0.7849\n",
            "Epoch 4/20\n",
            "199/199 [==============================] - 6s 30ms/step - loss: 0.2580 - accuracy: 0.9185 - val_loss: 0.6940 - val_accuracy: 0.7665\n",
            "Epoch 5/20\n",
            "199/199 [==============================] - 8s 38ms/step - loss: 0.1869 - accuracy: 0.9450 - val_loss: 0.7531 - val_accuracy: 0.7670\n",
            "Epoch 6/20\n",
            "199/199 [==============================] - 5s 27ms/step - loss: 0.1500 - accuracy: 0.9558 - val_loss: 0.7838 - val_accuracy: 0.7626\n",
            "Epoch 7/20\n",
            "199/199 [==============================] - 8s 39ms/step - loss: 0.1315 - accuracy: 0.9623 - val_loss: 0.8531 - val_accuracy: 0.7676\n",
            "Epoch 8/20\n",
            "199/199 [==============================] - 5s 26ms/step - loss: 0.1120 - accuracy: 0.9678 - val_loss: 0.9157 - val_accuracy: 0.7670\n",
            "Epoch 9/20\n",
            "199/199 [==============================] - 6s 30ms/step - loss: 0.1105 - accuracy: 0.9668 - val_loss: 0.9539 - val_accuracy: 0.7458\n",
            "Epoch 10/20\n",
            "199/199 [==============================] - 4s 22ms/step - loss: 0.0939 - accuracy: 0.9717 - val_loss: 1.0116 - val_accuracy: 0.7525\n",
            "Epoch 11/20\n",
            "199/199 [==============================] - 5s 26ms/step - loss: 0.0748 - accuracy: 0.9780 - val_loss: 1.1296 - val_accuracy: 0.7486\n",
            "Epoch 12/20\n",
            "199/199 [==============================] - 6s 30ms/step - loss: 0.0823 - accuracy: 0.9752 - val_loss: 1.1508 - val_accuracy: 0.7453\n",
            "Epoch 13/20\n",
            "199/199 [==============================] - 4s 22ms/step - loss: 0.0823 - accuracy: 0.9747 - val_loss: 1.1048 - val_accuracy: 0.7570\n",
            "Epoch 14/20\n",
            "199/199 [==============================] - 5s 26ms/step - loss: 0.0725 - accuracy: 0.9771 - val_loss: 1.0785 - val_accuracy: 0.7592\n",
            "Epoch 15/20\n",
            "199/199 [==============================] - 5s 23ms/step - loss: 0.0927 - accuracy: 0.9714 - val_loss: 1.0142 - val_accuracy: 0.7587\n",
            "Epoch 16/20\n",
            "199/199 [==============================] - 5s 24ms/step - loss: 0.0695 - accuracy: 0.9770 - val_loss: 1.0947 - val_accuracy: 0.7514\n",
            "Epoch 17/20\n",
            "199/199 [==============================] - 5s 24ms/step - loss: 0.0565 - accuracy: 0.9813 - val_loss: 1.2096 - val_accuracy: 0.7609\n",
            "Epoch 18/20\n",
            "199/199 [==============================] - 4s 20ms/step - loss: 0.0540 - accuracy: 0.9816 - val_loss: 1.2866 - val_accuracy: 0.7575\n",
            "Epoch 19/20\n",
            "199/199 [==============================] - 5s 23ms/step - loss: 0.0541 - accuracy: 0.9819 - val_loss: 1.2429 - val_accuracy: 0.7575\n",
            "Epoch 20/20\n",
            "199/199 [==============================] - 5s 25ms/step - loss: 0.0535 - accuracy: 0.9818 - val_loss: 1.2132 - val_accuracy: 0.7542\n"
          ]
        }
      ]
    },
    {
      "cell_type": "code",
      "source": [
        "loss, acc = model.evaluate(X_test, y_test)\n",
        "print(loss)\n",
        "print(acc)"
      ],
      "metadata": {
        "id": "hzXh4dda9VaR",
        "colab": {
          "base_uri": "https://localhost:8080/"
        },
        "outputId": "d54daa7c-5cea-42a7-a866-76c3ed83a9b7"
      },
      "execution_count": 36,
      "outputs": [
        {
          "output_type": "stream",
          "name": "stdout",
          "text": [
            "56/56 [==============================] - 1s 9ms/step - loss: 1.2132 - accuracy: 0.7542\n",
            "1.2132030725479126\n",
            "0.7541899681091309\n"
          ]
        }
      ]
    },
    {
      "cell_type": "code",
      "source": [
        "model.save('sentimentmodel.h5')"
      ],
      "metadata": {
        "id": "1TtOCtId9Y5D",
        "colab": {
          "base_uri": "https://localhost:8080/"
        },
        "outputId": "e5a058ab-dc37-458a-c5b4-5b495f630ca9"
      },
      "execution_count": 37,
      "outputs": [
        {
          "output_type": "stream",
          "name": "stderr",
          "text": [
            "/usr/local/lib/python3.10/dist-packages/keras/src/engine/training.py:3103: UserWarning: You are saving your model as an HDF5 file via `model.save()`. This file format is considered legacy. We recommend using instead the native Keras format, e.g. `model.save('my_model.keras')`.\n",
            "  saving_api.save_model(\n"
          ]
        }
      ]
    },
    {
      "cell_type": "code",
      "source": [
        "from sklearn.metrics import classification_report, confusion_matrix\n",
        "\n",
        "# Assuming you've already trained your model and obtained predictions on the test set\n",
        "y_pred = model.predict(X_test)\n",
        "y_pred_classes = np.argmax(y_pred, axis=1)  # Convert predicted probabilities to classes\n",
        "y_true = np.argmax(y_test, axis=1)  # Convert one-hot encoded true labels to classes\n",
        "\n",
        "# Compute metrics\n",
        "print(\"Classification Report:\")\n",
        "print(classification_report(y_true, y_pred_classes))\n",
        "\n",
        "# Compute confusion matrix\n",
        "print(\"Confusion Matrix:\")\n",
        "print(confusion_matrix(y_true, y_pred_classes))\n",
        "\n"
      ],
      "metadata": {
        "id": "uHSAqmEU9dwk",
        "colab": {
          "base_uri": "https://localhost:8080/"
        },
        "outputId": "1185196b-1024-43d1-e794-655604fc5c68"
      },
      "execution_count": 38,
      "outputs": [
        {
          "output_type": "stream",
          "name": "stdout",
          "text": [
            "56/56 [==============================] - 2s 8ms/step\n",
            "Classification Report:\n",
            "              precision    recall  f1-score   support\n",
            "\n",
            "           0       0.77      0.73      0.75       618\n",
            "           1       0.76      0.83      0.80       671\n",
            "           2       0.72      0.67      0.70       501\n",
            "\n",
            "    accuracy                           0.75      1790\n",
            "   macro avg       0.75      0.75      0.75      1790\n",
            "weighted avg       0.75      0.75      0.75      1790\n",
            "\n",
            "Confusion Matrix:\n",
            "[[452  78  88]\n",
            " [ 66 560  45]\n",
            " [ 67  96 338]]\n"
          ]
        }
      ]
    },
    {
      "cell_type": "code",
      "source": [
        "import numpy as np\n",
        "import seaborn as sns\n",
        "import matplotlib.pyplot as plt\n",
        "from sklearn.metrics import confusion_matrix\n",
        "\n",
        "# Assuming you've already trained your model and obtained predictions on the test set\n",
        "y_pred = model.predict(X_test)\n",
        "y_pred_classes = np.argmax(y_pred, axis=1)  # Convert predicted probabilities to classes\n",
        "y_true = np.argmax(y_test, axis=1)  # Convert one-hot encoded true labels to classes\n",
        "\n",
        "# Compute confusion matrix\n",
        "conf_matrix = confusion_matrix(y_true, y_pred_classes)\n",
        "\n",
        "# Plot confusion matrix as a heatmap\n",
        "plt.figure(figsize=(10, 8))\n",
        "sns.heatmap(conf_matrix, annot=True, fmt='d', cmap='Blues',\n",
        "            xticklabels=['Class 0', 'Class 1', 'Class2'],\n",
        "            yticklabels=['Anxiety', 'BPD', 'Bipolar'])\n",
        "plt.xlabel('Predicted Labels')\n",
        "plt.ylabel('True Labels')\n",
        "plt.title('Confusion Matrix')\n",
        "plt.show()\n"
      ],
      "metadata": {
        "id": "qAIEeZca9kOn",
        "colab": {
          "base_uri": "https://localhost:8080/",
          "height": 735
        },
        "outputId": "201bf501-326a-4635-9be6-e548e4be3828"
      },
      "execution_count": 31,
      "outputs": [
        {
          "output_type": "stream",
          "name": "stdout",
          "text": [
            "56/56 [==============================] - 2s 8ms/step\n"
          ]
        },
        {
          "output_type": "display_data",
          "data": {
            "text/plain": [
              "<Figure size 1000x800 with 2 Axes>"
            ],
            "image/png": "[encoded data removed]"
          },
          "metadata": {}
        }
      ]
    },
    {
      "cell_type": "code",
      "source": [
        "# Step 1: Install necessary libraries (if not already installed)\n",
        "!pip install keras\n",
        "\n",
        "import unittest\n",
        "from keras.models import load_model\n",
        "from keras.layers import Embedding, Bidirectional, Dropout, Dense\n",
        "\n",
        "# Define the path to your model file\n",
        "model_path = \"/content/path_to_your_model.h5\"  # Adjust the path as needed after uploading\n",
        "\n",
        "# Upload your model file to Colab\n",
        "from google.colab import files\n",
        "uploaded = files.upload()\n",
        "\n",
        "# Assuming you've defined these variables elsewhere in your code\n",
        "max_len = 3270  # Example value\n",
        "num_classes = 3  # Example value\n",
        "\n",
        "class TestLSTMModel(unittest.TestCase):\n",
        "\n",
        "    def setUp(self):\n",
        "        # Load your pre-trained model here\n",
        "        self.model = load_model(model_path)\n",
        "\n",
        "    def tearDown(self):\n",
        "        # Cleanup code (if necessary)\n",
        "        pass\n",
        "\n",
        "    def test_model_architecture(self):\n",
        "        # Your test assertions here\n",
        "        self.assertEqual(len(self.model.layers), 6)\n",
        "        self.assertIsInstance(self.model.layers[0], Embedding)\n",
        "        # Add more assertions based on your model architecture\n",
        "        # ...\n",
        "\n",
        "    def test_input_shape(self):\n",
        "        # Your test assertions here\n",
        "        self.assertEqual(self.model.layers[0].input_shape, (None, max_len))\n",
        "\n",
        "    def test_output_shape(self):\n",
        "        # Your test assertions here\n",
        "        self.assertEqual(self.model.layers[-1].output_shape, (None, num_classes))\n",
        "\n",
        "# Run the tests in Colab\n",
        "unittest.main(argv=[''], exit=False)\n"
      ],
      "metadata": {
        "id": "n-wurRlKhy-a"
      },
      "execution_count": null,
      "outputs": []
    },
    {
      "cell_type": "code",
      "source": [
        "original_labels = encoder.inverse_transform([0, 1, 2])\n",
        "\n",
        "# Print the mapping\n",
        "print(original_labels)"
      ],
      "metadata": {
        "id": "7GJbPMdy-VhI"
      },
      "execution_count": null,
      "outputs": []
    },
    {
      "cell_type": "code",
      "source": [
        "# Assuming you have defined max_seq_length during training\n",
        "max_seq_length = 1640\n",
        "\n",
        "\n",
        "def preprocess_input(user_input):\n",
        "    input_sequence = tokenizer.texts_to_sequences([user_input])\n",
        "    input_padded = pad_sequences(input_sequence, padding='post', maxlen=max_seq_length)\n",
        "    return input_padded\n",
        "\n",
        "# Ask for user input\n",
        "user_input = input(\"Enter your text: \")\n",
        "\n",
        "# Preprocess the input\n",
        "processed_input = preprocess_input(user_input)\n",
        "\n",
        "# Make predictions\n",
        "predictions = model.predict(processed_input)\n",
        "\n",
        "# Get the predicted sentiment class\n",
        "predicted_sentiment = np.argmax(predictions)\n",
        "\n",
        "# Print the result\n",
        "print(\"Predicted Sentiment:\", predicted_sentiment)"
      ],
      "metadata": {
        "id": "0HvdPaKL9lOf"
      },
      "execution_count": null,
      "outputs": []
    },
    {
      "cell_type": "code",
      "source": [
        "# Get training and validation accuracy values\n",
        "acc = history.history['accuracy']\n",
        "val_acc = history.history['val_accuracy']\n",
        "\n",
        "# Get training and validation loss values\n",
        "loss = history.history['loss']\n",
        "val_loss = history.history['val_loss']\n",
        "\n",
        "# Plotting the training and validation accuracy over epochs\n",
        "plt.figure(figsize=(14, 5))\n",
        "\n",
        "# Plotting accuracy\n",
        "plt.subplot(1, 2, 1)\n",
        "plt.plot(acc, label='Training Accuracy', color='blue')\n",
        "plt.plot(val_acc, label='Validation Accuracy', color='red')\n",
        "plt.title('Training and Validation Accuracy')\n",
        "plt.xlabel('Epochs')\n",
        "plt.ylabel('Accuracy')\n",
        "plt.legend()\n",
        "\n",
        "# Plotting the training and validation loss over epochs\n",
        "plt.subplot(1, 2, 2)\n",
        "plt.plot(loss, label='Training Loss', color='blue')\n",
        "plt.plot(val_loss, label='Validation Loss', color='red')\n",
        "plt.title('Training and Validation Loss')\n",
        "plt.xlabel('Epochs')\n",
        "plt.ylabel('Loss')\n",
        "plt.legend()\n",
        "\n",
        "plt.tight_layout()\n",
        "plt.show()\n"
      ],
      "metadata": {
        "id": "Tx-b94gwFEVg",
        "colab": {
          "base_uri": "https://localhost:8080/",
          "height": 507
        },
        "outputId": "2b1ac848-58c6-45ba-8567-4c5dadbbcb8b"
      },
      "execution_count": 39,
      "outputs": [
        {
          "output_type": "display_data",
          "data": {
            "text/plain": [
              "<Figure size 1400x500 with 2 Axes>"
            ],
            "image/png": "[encoded data removed]"
          },
          "metadata": {}
        }
      ]
    }
  ]
}